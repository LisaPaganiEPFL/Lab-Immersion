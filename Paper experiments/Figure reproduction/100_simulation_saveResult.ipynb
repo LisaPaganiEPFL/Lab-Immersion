{
 "cells": [
  {
   "cell_type": "code",
   "execution_count": 1,
   "metadata": {},
   "outputs": [],
   "source": [
    "from numba_code import *\n",
    "import matplotlib.pyplot as plt\n",
    "plt.style.use('default')"
   ]
  },
  {
   "cell_type": "markdown",
   "metadata": {},
   "source": [
    "# Mutant fate simulation\n",
    "\n",
    "In this notebook we run the simulations (100 for each configuration) and we save the results in the folders `Unweighted` and `Asymmetric`."
   ]
  },
  {
   "cell_type": "markdown",
   "metadata": {},
   "source": [
    "## Unweighted amplifier"
   ]
  },
  {
   "cell_type": "code",
   "execution_count": 2,
   "metadata": {},
   "outputs": [],
   "source": [
    "#Saving dynamics (option save_dynamics=True)\n",
    "save_folder='Unweighted/Amplifier/10'\n",
    "\n",
    "\n",
    "#Initial state of the graph\n",
    "in_numbers=np.array([[0.,1.5e7],[1.5e4,1.5e7],[0.,1.5e7],[0.,1.5e7]]).astype(np.int64)\n",
    "    \n",
    "#Parameters for the 10% migration, according to paper\n",
    "mI=(1e6/3)/(1e7+1e6)\n",
    "mO=1e6/(1e7+1e6)\n",
    "\n",
    "#Fitness and growth_rate (t), according to paper\n",
    "s=0.2\n",
    "fitnesses=np.array([1+s,1])\n",
    "t=np.log(100)\n",
    "\n",
    "nb_cycles=100\n",
    "nb_sim=100\n",
    "K=1.5e7\n",
    "N_demes=4\n",
    "\n",
    "#Migration matrix of the star\n",
    "migration_matrix=define_star(N_demes,mI,mO,equal_contribution=False)"
   ]
  },
  {
   "cell_type": "code",
   "execution_count": 3,
   "metadata": {
    "scrolled": true
   },
   "outputs": [
    {
     "name": "stdout",
     "output_type": "stream",
     "text": [
      "Fixation probability on 100 simulations is 1.0, with \n",
      " average extinction time 0 and \n",
      " average fixation time 29.54\n"
     ]
    }
   ],
   "source": [
    "#Fixation probability \n",
    "et, ft, fp = fixation_probability(in_numbers, save_folder, migration_matrix, fitnesses, nb_sim, nb_cycles, t, K, size_follow_numbers=100, print_frequency=1, save_dynamics=True)\n",
    "print(f'Fixation probability on {nb_sim} simulations is {fp}, with \\n average extinction time {et} and \\n average fixation time {ft}')"
   ]
  },
  {
   "cell_type": "code",
   "execution_count": 4,
   "metadata": {},
   "outputs": [
    {
     "name": "stdout",
     "output_type": "stream",
     "text": [
      "Fixation probability on 100 simulations is 1.0, with \n",
      " average extinction time 0 and \n",
      " average fixation time 28.78\n"
     ]
    }
   ],
   "source": [
    "#Saving dynamics (option save_dynamics=True)\n",
    "save_folder='Unweighted/Amplifier/20'\n",
    "\n",
    "#Parameters for the 10% migration, according to paper\n",
    "mI=(2e6/3)/(1e7+2e6)\n",
    "mO=2e6/(1e7+2e6)\n",
    "\n",
    "#Migration matrix of the star\n",
    "migration_matrix=define_star(N_demes,mI,mO,equal_contribution=False)\n",
    "\n",
    "#Fixation probability \n",
    "et, ft, fp = fixation_probability(in_numbers, save_folder, migration_matrix, fitnesses, nb_sim, nb_cycles, t, K, size_follow_numbers=100, print_frequency=1, save_dynamics=True)\n",
    "print(f'Fixation probability on {nb_sim} simulations is {fp}, with \\n average extinction time {et} and \\n average fixation time {ft}')"
   ]
  },
  {
   "cell_type": "code",
   "execution_count": 5,
   "metadata": {},
   "outputs": [
    {
     "name": "stdout",
     "output_type": "stream",
     "text": [
      "Fixation probability on 100 simulations is 1.0, with \n",
      " average extinction time 0 and \n",
      " average fixation time 28.67\n"
     ]
    }
   ],
   "source": [
    "#Saving dynamics (option save_dynamics=True)\n",
    "save_folder='Unweighted/Amplifier/30'\n",
    "\n",
    "#Parameters for the 10% migration, according to paper\n",
    "mI=(3e6/3)/(1e7+3e6)\n",
    "mO=3e6/(1e7+3e6)\n",
    "\n",
    "#Migration matrix of the star\n",
    "migration_matrix=define_star(N_demes,mI,mO,equal_contribution=False)\n",
    "\n",
    "#Fixation probability \n",
    "et, ft, fp = fixation_probability(in_numbers, save_folder, migration_matrix, fitnesses, nb_sim, nb_cycles, t, K, size_follow_numbers=100, print_frequency=1, save_dynamics=True)\n",
    "print(f'Fixation probability on {nb_sim} simulations is {fp}, with \\n average extinction time {et} and \\n average fixation time {ft}')"
   ]
  },
  {
   "cell_type": "code",
   "execution_count": 6,
   "metadata": {},
   "outputs": [
    {
     "name": "stdout",
     "output_type": "stream",
     "text": [
      "Fixation probability on 100 simulations is 1.0, with \n",
      " average extinction time 0 and \n",
      " average fixation time 32.82\n"
     ]
    }
   ],
   "source": [
    "#Saving dynamics (option save_dynamics=True)\n",
    "save_folder='Unweighted/Amplifier/1'\n",
    "\n",
    "#Parameters for the 10% migration, according to paper\n",
    "mI=(1e5/3)/(1e7+1e5)\n",
    "mO=1e5/(1e7+1e5)\n",
    "\n",
    "#Migration matrix of the star\n",
    "migration_matrix=define_star(N_demes,mI,mO,equal_contribution=False)\n",
    "\n",
    "#Fixation probability \n",
    "et, ft, fp = fixation_probability(in_numbers, save_folder, migration_matrix, fitnesses, nb_sim, nb_cycles, t, K, size_follow_numbers=100, print_frequency=1, save_dynamics=True)\n",
    "print(f'Fixation probability on {nb_sim} simulations is {fp}, with \\n average extinction time {et} and \\n average fixation time {ft}')"
   ]
  },
  {
   "cell_type": "code",
   "execution_count": 7,
   "metadata": {},
   "outputs": [
    {
     "name": "stdout",
     "output_type": "stream",
     "text": [
      "Fixation probability on 100 simulations is 1.0, with \n",
      " average extinction time 0 and \n",
      " average fixation time 42.71\n"
     ]
    }
   ],
   "source": [
    "#Saving dynamics (option save_dynamics=True)\n",
    "save_folder='Unweighted/Amplifier/0.01'\n",
    "\n",
    "#Parameters for the 10% migration, according to paper\n",
    "mI=(1e3/3)/(1e7+1e3)\n",
    "mO=1e3/(1e7+1e3)\n",
    "\n",
    "#Migration matrix of the star\n",
    "migration_matrix=define_star(N_demes,mI,mO,equal_contribution=False)\n",
    "\n",
    "#Fixation probability \n",
    "et, ft, fp = fixation_probability(in_numbers, save_folder, migration_matrix, fitnesses, nb_sim, nb_cycles, t, K, size_follow_numbers=100, print_frequency=1, save_dynamics=True)\n",
    "print(f'Fixation probability on {nb_sim} simulations is {fp}, with \\n average extinction time {et} and \\n average fixation time {ft}')"
   ]
  },
  {
   "cell_type": "code",
   "execution_count": 8,
   "metadata": {},
   "outputs": [
    {
     "name": "stdout",
     "output_type": "stream",
     "text": [
      "Fixation probability on 100 simulations is 1.0, with \n",
      " average extinction time 0 and \n",
      " average fixation time 47.82\n"
     ]
    }
   ],
   "source": [
    "#Saving dynamics (option save_dynamics=True)\n",
    "save_folder='Unweighted/Amplifier/0.001'\n",
    "\n",
    "#Parameters for the 10% migration, according to paper\n",
    "mI=(1e2/3)/(1e7+1e2)\n",
    "mO=1e2/(1e7+1e2)\n",
    "\n",
    "#Migration matrix of the star\n",
    "migration_matrix=define_star(N_demes,mI,mO,equal_contribution=False)\n",
    "\n",
    "#Fixation probability \n",
    "et, ft, fp = fixation_probability(in_numbers, save_folder, migration_matrix, fitnesses, nb_sim, nb_cycles, t, K, size_follow_numbers=100, print_frequency=1, save_dynamics=True)\n",
    "print(f'Fixation probability on {nb_sim} simulations is {fp}, with \\n average extinction time {et} and \\n average fixation time {ft}')"
   ]
  },
  {
   "cell_type": "markdown",
   "metadata": {},
   "source": [
    "## Unweighted well-mixed"
   ]
  },
  {
   "cell_type": "code",
   "execution_count": 2,
   "metadata": {},
   "outputs": [],
   "source": [
    "#Saving dynamics (option save_dynamics=True)\n",
    "save_folder='Unweighted/Well-mixed/10'\n",
    "\n",
    "\n",
    "#Initial state of the graph\n",
    "in_numbers=np.array([[0.,1.5e7],[1.5e4,1.5e7],[0.,1.5e7],[0.,1.5e7]]).astype(np.int64)\n",
    "    \n",
    "\n",
    "#Fitness and growth_rate (t), according to paper\n",
    "s=0.2\n",
    "fitnesses=np.array([1+s,1])\n",
    "t=np.log(100)\n",
    "\n",
    "nb_cycles=100\n",
    "nb_sim=100\n",
    "K=1.5e7\n",
    "N_demes=4\n",
    "\n",
    "\n",
    "#Parameters for the 10% migration, according to paper\n",
    "m=(1e6/4)/(1e7+1e6)\n",
    "\n",
    "#Migration matrix of the clique\n",
    "migration_matrix=define_clique(N_demes,m)"
   ]
  },
  {
   "cell_type": "code",
   "execution_count": 3,
   "metadata": {},
   "outputs": [
    {
     "name": "stdout",
     "output_type": "stream",
     "text": [
      "Fixation probability on 100 simulations is 1.0, with \n",
      " average extinction time 0 and \n",
      " average fixation time 28.89\n"
     ]
    }
   ],
   "source": [
    "#Fixation probability \n",
    "et, ft, fp = fixation_probability(in_numbers, save_folder, migration_matrix, fitnesses, nb_sim, nb_cycles, t, K, size_follow_numbers=100, print_frequency=1, save_dynamics=True)\n",
    "print(f'Fixation probability on {nb_sim} simulations is {fp}, with \\n average extinction time {et} and \\n average fixation time {ft}')"
   ]
  },
  {
   "cell_type": "code",
   "execution_count": 4,
   "metadata": {},
   "outputs": [
    {
     "name": "stdout",
     "output_type": "stream",
     "text": [
      "Fixation probability on 100 simulations is 1.0, with \n",
      " average extinction time 0 and \n",
      " average fixation time 28.37\n"
     ]
    }
   ],
   "source": [
    "#Saving dynamics (option save_dynamics=True)\n",
    "save_folder='Unweighted/Well-mixed/20'\n",
    "\n",
    "#Parameters for the 10% migration, according to paper\n",
    "m=(2e6/4)/(1e7+2e6)\n",
    "\n",
    "#Migration matrix of the clique\n",
    "migration_matrix=define_clique(N_demes,m)\n",
    "\n",
    "#Fixation probability \n",
    "et, ft, fp = fixation_probability(in_numbers, save_folder, migration_matrix, fitnesses, nb_sim, nb_cycles, t, K, size_follow_numbers=100, print_frequency=1, save_dynamics=True)\n",
    "print(f'Fixation probability on {nb_sim} simulations is {fp}, with \\n average extinction time {et} and \\n average fixation time {ft}')"
   ]
  },
  {
   "cell_type": "code",
   "execution_count": 5,
   "metadata": {},
   "outputs": [
    {
     "name": "stdout",
     "output_type": "stream",
     "text": [
      "Fixation probability on 100 simulations is 1.0, with \n",
      " average extinction time 0 and \n",
      " average fixation time 28.43\n"
     ]
    }
   ],
   "source": [
    "#Saving dynamics (option save_dynamics=True)\n",
    "save_folder='Unweighted/Well-mixed/30'\n",
    "\n",
    "#Parameters for the 10% migration, according to paper\n",
    "m=(3e6/4)/(1e7+3e6)\n",
    "\n",
    "#Migration matrix of the clique\n",
    "migration_matrix=define_clique(N_demes,m)\n",
    "\n",
    "#Fixation probability \n",
    "et, ft, fp = fixation_probability(in_numbers, save_folder, migration_matrix, fitnesses, nb_sim, nb_cycles, t, K, size_follow_numbers=100, print_frequency=1, save_dynamics=True)\n",
    "print(f'Fixation probability on {nb_sim} simulations is {fp}, with \\n average extinction time {et} and \\n average fixation time {ft}')"
   ]
  },
  {
   "cell_type": "code",
   "execution_count": 6,
   "metadata": {},
   "outputs": [
    {
     "name": "stdout",
     "output_type": "stream",
     "text": [
      "Fixation probability on 100 simulations is 1.0, with \n",
      " average extinction time 0 and \n",
      " average fixation time 30.77\n"
     ]
    }
   ],
   "source": [
    "#Saving dynamics (option save_dynamics=True)\n",
    "save_folder='Unweighted/Well-mixed/1'\n",
    "\n",
    "#Parameters for the 10% migration, according to paper\n",
    "m=(1e5/4)/(1e7+1e5)\n",
    "\n",
    "#Migration matrix of the clique\n",
    "migration_matrix=define_clique(N_demes,m)\n",
    "\n",
    "#Fixation probability \n",
    "et, ft, fp = fixation_probability(in_numbers, save_folder, migration_matrix, fitnesses, nb_sim, nb_cycles, t, K, size_follow_numbers=100, print_frequency=1, save_dynamics=True)\n",
    "print(f'Fixation probability on {nb_sim} simulations is {fp}, with \\n average extinction time {et} and \\n average fixation time {ft}')"
   ]
  },
  {
   "cell_type": "code",
   "execution_count": 7,
   "metadata": {},
   "outputs": [
    {
     "name": "stdout",
     "output_type": "stream",
     "text": [
      "Fixation probability on 100 simulations is 1.0, with \n",
      " average extinction time 0 and \n",
      " average fixation time 35.97\n"
     ]
    }
   ],
   "source": [
    "#Saving dynamics (option save_dynamics=True)\n",
    "save_folder='Unweighted/Well-mixed/0.01'\n",
    "\n",
    "#Parameters for the 10% migration, according to paper\n",
    "m=(1e3/4)/(1e7+1e3)\n",
    "\n",
    "#Migration matrix of the clique\n",
    "migration_matrix=define_clique(N_demes,m)\n",
    "\n",
    "#Fixation probability \n",
    "et, ft, fp = fixation_probability(in_numbers, save_folder, migration_matrix, fitnesses, nb_sim, nb_cycles, t, K, size_follow_numbers=100, print_frequency=1, save_dynamics=True)\n",
    "print(f'Fixation probability on {nb_sim} simulations is {fp}, with \\n average extinction time {et} and \\n average fixation time {ft}')"
   ]
  },
  {
   "cell_type": "code",
   "execution_count": 8,
   "metadata": {},
   "outputs": [
    {
     "name": "stdout",
     "output_type": "stream",
     "text": [
      "Fixation probability on 100 simulations is 1.0, with \n",
      " average extinction time 0 and \n",
      " average fixation time 38.59\n"
     ]
    }
   ],
   "source": [
    "#Saving dynamics (option save_dynamics=True)\n",
    "save_folder='Unweighted/Well-mixed/0.001'\n",
    "\n",
    "#Parameters for the 10% migration, according to paper\n",
    "m=(1e2/4)/(1e7+1e2)\n",
    "\n",
    "#Migration matrix of the clique\n",
    "migration_matrix=define_clique(N_demes,m)\n",
    "\n",
    "#Fixation probability \n",
    "et, ft, fp = fixation_probability(in_numbers, save_folder, migration_matrix, fitnesses, nb_sim, nb_cycles, t, K, size_follow_numbers=100, print_frequency=1, save_dynamics=True)\n",
    "print(f'Fixation probability on {nb_sim} simulations is {fp}, with \\n average extinction time {et} and \\n average fixation time {ft}')"
   ]
  },
  {
   "cell_type": "markdown",
   "metadata": {},
   "source": [
    "## Asymmetric well-mixed"
   ]
  },
  {
   "cell_type": "markdown",
   "metadata": {},
   "source": [
    "### 1) High migration rate"
   ]
  },
  {
   "cell_type": "code",
   "execution_count": 7,
   "metadata": {},
   "outputs": [],
   "source": [
    "#Saving dynamics (option save_dynamics=True)\n",
    "save_folder='Asymmetric/Well-mixed/High'\n",
    "\n",
    "#Parameters for the HIGH migration, according to paper\n",
    "m=1e5/(1e7+4e5)\n",
    "\n",
    "#Migration matrix of the clique\n",
    "migration_matrix=define_clique(N_demes,m)"
   ]
  },
  {
   "cell_type": "code",
   "execution_count": 8,
   "metadata": {},
   "outputs": [
    {
     "name": "stdout",
     "output_type": "stream",
     "text": [
      "Fixation probability on 100 simulations is 1.0, with \n",
      " average extinction time 0 and \n",
      " average fixation time 29.46\n"
     ]
    }
   ],
   "source": [
    "#Fixation probability \n",
    "et, ft, fp = fixation_probability(in_numbers, save_folder, migration_matrix, fitnesses, nb_sim, nb_cycles, t, K, size_follow_numbers=100, print_frequency=1, save_dynamics=True)\n",
    "print(f'Fixation probability on {nb_sim} simulations is {fp}, with \\n average extinction time {et} and \\n average fixation time {ft}')"
   ]
  },
  {
   "cell_type": "markdown",
   "metadata": {},
   "source": [
    "### 2) Low migration rate"
   ]
  },
  {
   "cell_type": "code",
   "execution_count": 3,
   "metadata": {},
   "outputs": [],
   "source": [
    "#Saving dynamics (option save_dynamics=True)\n",
    "save_folder='Asymmetric/Well-mixed/Low'\n",
    "\n",
    "#Parameters for the LOW migration, according to paper\n",
    "m=1e2/(1e7+4e2)\n",
    "\n",
    "#Migration matrix of the clique\n",
    "migration_matrix=define_clique(N_demes,m)"
   ]
  },
  {
   "cell_type": "code",
   "execution_count": 4,
   "metadata": {
    "scrolled": true
   },
   "outputs": [
    {
     "name": "stdout",
     "output_type": "stream",
     "text": [
      "Fixation probability on 100 simulations is 1.0, with \n",
      " average extinction time 0 and \n",
      " average fixation time 36.84\n"
     ]
    }
   ],
   "source": [
    "#Fixation probability \n",
    "et, ft, fp = fixation_probability(in_numbers, save_folder, migration_matrix, fitnesses, nb_sim, nb_cycles, t, K, size_follow_numbers=100, print_frequency=1, save_dynamics=True)\n",
    "print(f'Fixation probability on {nb_sim} simulations is {fp}, with \\n average extinction time {et} and \\n average fixation time {ft}')"
   ]
  },
  {
   "cell_type": "markdown",
   "metadata": {},
   "source": [
    "## Asymmetric OUT = IN"
   ]
  },
  {
   "cell_type": "markdown",
   "metadata": {},
   "source": [
    "### 1) High migration rate"
   ]
  },
  {
   "cell_type": "code",
   "execution_count": 3,
   "metadata": {},
   "outputs": [],
   "source": [
    "#Saving dynamics (option save_dynamics=True)\n",
    "save_folder='Asymmetric/Balanced/High'\n",
    "\n",
    "#Parameters for the HIGH migration, according to paper\n",
    "mI=1e5/(1e7+1e5)\n",
    "mO=1e5/(1e7+3e5)\n",
    "\n",
    "\n",
    "#Migration matrix of the star\n",
    "migration_matrix=define_star(N_demes,mI,mO,equal_contribution=True)"
   ]
  },
  {
   "cell_type": "code",
   "execution_count": 4,
   "metadata": {},
   "outputs": [
    {
     "name": "stdout",
     "output_type": "stream",
     "text": [
      "Fixation probability on 100 simulations is 1.0, with \n",
      " average extinction time 0 and \n",
      " average fixation time 32.3\n"
     ]
    }
   ],
   "source": [
    "nb_sim=100\n",
    "#Fixation probability \n",
    "et, ft, fp = fixation_probability(in_numbers, save_folder, migration_matrix, fitnesses, nb_sim, nb_cycles, t, K, size_follow_numbers=100, print_frequency=1, save_dynamics=True)\n",
    "print(f'Fixation probability on {nb_sim} simulations is {fp}, with \\n average extinction time {et} and \\n average fixation time {ft}')"
   ]
  },
  {
   "cell_type": "markdown",
   "metadata": {},
   "source": [
    "2) Low migration rate"
   ]
  },
  {
   "cell_type": "code",
   "execution_count": 5,
   "metadata": {},
   "outputs": [],
   "source": [
    "#Saving dynamics (option save_dynamics=True)\n",
    "save_folder='Asymmetric/Balanced/Low'\n",
    "\n",
    "#Parameters for the HIGH migration, according to paper\n",
    "mI=1e2/(1e7+1e2)\n",
    "mO=1e2/(1e7+3e2)\n",
    "\n",
    "\n",
    "#Migration matrix of the star\n",
    "migration_matrix=define_star(N_demes,mI,mO,equal_contribution=True)"
   ]
  },
  {
   "cell_type": "code",
   "execution_count": 6,
   "metadata": {},
   "outputs": [
    {
     "name": "stdout",
     "output_type": "stream",
     "text": [
      "Fixation probability on 100 simulations is 1.0, with \n",
      " average extinction time 0 and \n",
      " average fixation time 46.67\n"
     ]
    }
   ],
   "source": [
    "nb_sim=100\n",
    "#Fixation probability \n",
    "et, ft, fp = fixation_probability(in_numbers, save_folder, migration_matrix, fitnesses, nb_sim, nb_cycles, t, K, size_follow_numbers=100, print_frequency=1, save_dynamics=True)\n",
    "print(f'Fixation probability on {nb_sim} simulations is {fp}, with \\n average extinction time {et} and \\n average fixation time {ft}')"
   ]
  },
  {
   "cell_type": "markdown",
   "metadata": {},
   "source": [
    "## Asymmetric OUT > IN"
   ]
  },
  {
   "cell_type": "markdown",
   "metadata": {},
   "source": [
    "### 1) High migration rate"
   ]
  },
  {
   "cell_type": "code",
   "execution_count": 5,
   "metadata": {},
   "outputs": [],
   "source": [
    "#Saving dynamics (option save_dynamics=True)\n",
    "save_folder='Asymmetric/Out_in/High'\n",
    "\n",
    "#Parameters for the HIGH migration, according to paper\n",
    "mI=1e5/(1e7+3e5)\n",
    "mO=3e5/(1e7+3e5)\n",
    "\n",
    "\n",
    "#Migration matrix of the star\n",
    "migration_matrix=define_star(N_demes,mI,mO,equal_contribution=False)"
   ]
  },
  {
   "cell_type": "code",
   "execution_count": 6,
   "metadata": {},
   "outputs": [
    {
     "name": "stdout",
     "output_type": "stream",
     "text": [
      "Fixation probability on 100 simulations is 1.0, with \n",
      " average extinction time 0 and \n",
      " average fixation time 31.0\n"
     ]
    }
   ],
   "source": [
    "nb_sim=100\n",
    "#Fixation probability \n",
    "et, ft, fp = fixation_probability(in_numbers, save_folder, migration_matrix, fitnesses, nb_sim, nb_cycles, t, K, size_follow_numbers=100, print_frequency=1, save_dynamics=True)\n",
    "print(f'Fixation probability on {nb_sim} simulations is {fp}, with \\n average extinction time {et} and \\n average fixation time {ft}')"
   ]
  },
  {
   "cell_type": "markdown",
   "metadata": {},
   "source": [
    "### 2) Low migration rate"
   ]
  },
  {
   "cell_type": "code",
   "execution_count": 7,
   "metadata": {},
   "outputs": [],
   "source": [
    "#Saving dynamics (option save_dynamics=True)\n",
    "save_folder='Asymmetric/Out_in/Low'\n",
    "\n",
    "#Parameters for the LOW migration, according to paper\n",
    "mI=1e2/(1e7+3e2)\n",
    "mO=3e2/(1e7+3e2)\n",
    "\n",
    "#Migration matrix of the star\n",
    "migration_matrix=define_star(N_demes,mI,mO,equal_contribution=False)"
   ]
  },
  {
   "cell_type": "code",
   "execution_count": 8,
   "metadata": {},
   "outputs": [
    {
     "name": "stdout",
     "output_type": "stream",
     "text": [
      "Fixation probability on 100 simulations is 1.0, with \n",
      " average extinction time 0 and \n",
      " average fixation time 45.34\n"
     ]
    }
   ],
   "source": [
    "nb_sim=100\n",
    "#Fixation probability \n",
    "et, ft, fp = fixation_probability(in_numbers, save_folder, migration_matrix, fitnesses, nb_sim, nb_cycles, t, K, size_follow_numbers=100, print_frequency=1, save_dynamics=True)\n",
    "print(f'Fixation probability on {nb_sim} simulations is {fp}, with \\n average extinction time {et} and \\n average fixation time {ft}')"
   ]
  },
  {
   "cell_type": "markdown",
   "metadata": {},
   "source": [
    "## Asymmetric IN > OUT"
   ]
  },
  {
   "cell_type": "markdown",
   "metadata": {},
   "source": [
    "### 1) High migration rate"
   ]
  },
  {
   "cell_type": "code",
   "execution_count": 9,
   "metadata": {},
   "outputs": [],
   "source": [
    "#Saving dynamics (option save_dynamics=True)\n",
    "save_folder='Asymmetric/In_out/High'\n",
    "\n",
    "#Parameters for the HIGH migration, according to paper\n",
    "mI=3e5/(1e7+3e5)\n",
    "mO=1e5/(1e7+3e5)\n",
    "\n",
    "#Migration matrix of the star\n",
    "migration_matrix=define_star(N_demes,mI,mO,equal_contribution=True)"
   ]
  },
  {
   "cell_type": "code",
   "execution_count": 10,
   "metadata": {},
   "outputs": [
    {
     "name": "stdout",
     "output_type": "stream",
     "text": [
      "Fixation probability on 100 simulations is 1.0, with \n",
      " average extinction time 0 and \n",
      " average fixation time 31.5\n"
     ]
    }
   ],
   "source": [
    "nb_sim=100\n",
    "#Fixation probability \n",
    "et, ft, fp = fixation_probability(in_numbers, save_folder, migration_matrix, fitnesses, nb_sim, nb_cycles, t, K, size_follow_numbers=100, print_frequency=1, save_dynamics=True)\n",
    "print(f'Fixation probability on {nb_sim} simulations is {fp}, with \\n average extinction time {et} and \\n average fixation time {ft}')"
   ]
  },
  {
   "cell_type": "markdown",
   "metadata": {},
   "source": [
    "### 2) Low migration rate"
   ]
  },
  {
   "cell_type": "code",
   "execution_count": 11,
   "metadata": {},
   "outputs": [],
   "source": [
    "#Saving dynamics (option save_dynamics=True)\n",
    "save_folder='Asymmetric/In_out/Low'\n",
    "\n",
    "#Parameters for the LOW migration, according to paper\n",
    "mI=3e2/(1e7+3e2)\n",
    "mO=1e2/(1e7+3e2)\n",
    "\n",
    "#Migration matrix of the star\n",
    "migration_matrix=define_star(N_demes,mI,mO,equal_contribution=True)"
   ]
  },
  {
   "cell_type": "code",
   "execution_count": 12,
   "metadata": {},
   "outputs": [
    {
     "name": "stdout",
     "output_type": "stream",
     "text": [
      "Fixation probability on 100 simulations is 1.0, with \n",
      " average extinction time 0 and \n",
      " average fixation time 45.58\n"
     ]
    }
   ],
   "source": [
    "nb_sim=100\n",
    "#Fixation probability \n",
    "et, ft, fp = fixation_probability(in_numbers, save_folder, migration_matrix, fitnesses, nb_sim, nb_cycles, t, K, size_follow_numbers=100, print_frequency=1, save_dynamics=True)\n",
    "print(f'Fixation probability on {nb_sim} simulations is {fp}, with \\n average extinction time {et} and \\n average fixation time {ft}')"
   ]
  }
 ],
 "metadata": {
  "kernelspec": {
   "display_name": "Python 3 (ipykernel)",
   "language": "python",
   "name": "python3"
  },
  "language_info": {
   "codemirror_mode": {
    "name": "ipython",
    "version": 3
   },
   "file_extension": ".py",
   "mimetype": "text/x-python",
   "name": "python",
   "nbconvert_exporter": "python",
   "pygments_lexer": "ipython3",
   "version": "3.9.7"
  }
 },
 "nbformat": 4,
 "nbformat_minor": 2
}
